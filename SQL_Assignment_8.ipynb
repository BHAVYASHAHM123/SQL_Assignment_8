{
  "nbformat": 4,
  "nbformat_minor": 0,
  "metadata": {
    "colab": {
      "name": " SQL_Assignment_8.ipynb",
      "provenance": []
    },
    "kernelspec": {
      "name": "python3",
      "display_name": "Python 3"
    },
    "language_info": {
      "name": "python"
    }
  },
  "cells": [
    {
      "cell_type": "markdown",
      "source": [
        "Q1). Write an SQL query to fetch intersecting records of two tables.\n",
        "\n",
        "Ans) \n",
        "\n",
        "SELECT column1 [, column2 ]\n",
        "FROM table1 [, table2 ]\n",
        "[WHERE condition]\n",
        "\n",
        "INTERSECT\n",
        "\n",
        "SELECT column1 [, column2 ]\n",
        "FROM table1 [, table2 ]\n",
        "[WHERE condition]"
      ],
      "metadata": {
        "id": "HqObnKTtWV9I"
      }
    },
    {
      "cell_type": "markdown",
      "source": [
        "Q2). Write an SQL query to show records from one table that another table does not have.\n",
        "\n",
        "Ans) \n",
        "\n",
        "SELECT t1.name FROM table1 t1 LEFT JOIN table2 t2 ON t2.name = t1.name WHERE t2.name IS NULL"
      ],
      "metadata": {
        "id": "1vEx8CLLWVzR"
      }
    },
    {
      "cell_type": "markdown",
      "source": [
        ""
      ],
      "metadata": {
        "id": "ae_fvmrwWtxN"
      }
    },
    {
      "cell_type": "markdown",
      "source": [
        ""
      ],
      "metadata": {
        "id": "62CBCrz5WtmS"
      }
    }
  ]
}